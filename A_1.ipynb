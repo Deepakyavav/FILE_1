{
 "cells": [
  {
   "attachments": {},
   "cell_type": "markdown",
   "metadata": {},
   "source": [
    "# Q-1"
   ]
  },
  {
   "attachments": {},
   "cell_type": "markdown",
   "metadata": {},
   "source": [
    "### Implementing using dictionary"
   ]
  },
  {
   "cell_type": "code",
   "execution_count": 6,
   "metadata": {},
   "outputs": [],
   "source": [
    "def twoSum(nums,traget):\n",
    "    d={}\n",
    "    for i in range(len(nums)):\n",
    "        d[nums[i]]=i\n",
    "    for i in range(len(nums)):\n",
    "        k=target-nums[i]\n",
    "        if k in d and d[k]!=i:\n",
    "            return [i,d[k]]\n",
    "    return []"
   ]
  },
  {
   "cell_type": "code",
   "execution_count": 7,
   "metadata": {},
   "outputs": [
    {
     "name": "stdout",
     "output_type": "stream",
     "text": [
      "[0, 1]\n"
     ]
    }
   ],
   "source": [
    "nums=[2,7,11,15]\n",
    "target = 9\n",
    "print(twoSum(nums,target))"
   ]
  },
  {
   "attachments": {},
   "cell_type": "markdown",
   "metadata": {},
   "source": [
    "# Q-2"
   ]
  },
  {
   "cell_type": "code",
   "execution_count": 10,
   "metadata": {},
   "outputs": [],
   "source": [
    "def removeElement(nums, val): \n",
    "        count = 0\n",
    "        # Loop through all the elements of the array\n",
    "        for i in range(len(nums)):\n",
    "            if nums[i] != val:\n",
    "                # If the element is not val\n",
    "                nums[count] = nums[i]\n",
    "                count += 1\n",
    "        return count,nums"
   ]
  },
  {
   "cell_type": "code",
   "execution_count": 11,
   "metadata": {},
   "outputs": [
    {
     "name": "stdout",
     "output_type": "stream",
     "text": [
      "(2, [2, 2, 2, 3])\n"
     ]
    }
   ],
   "source": [
    "nums = [3,2,2,3]\n",
    "val = 3\n",
    "print(removeElement(nums,val))"
   ]
  },
  {
   "attachments": {},
   "cell_type": "markdown",
   "metadata": {},
   "source": [
    "# Q-3"
   ]
  },
  {
   "cell_type": "code",
   "execution_count": 14,
   "metadata": {},
   "outputs": [],
   "source": [
    "def searchInsert(nums, target):\n",
    "        start = 0\n",
    "        end = len(nums) - 1\n",
    "        \n",
    "        # Traverse an array\n",
    "        while (start <= end):\n",
    "            \n",
    "            mid = int((start + end)/2)\n",
    "             \n",
    "            # if target value found.\n",
    "            if nums[mid] == target:\n",
    "                return mid\n",
    "            \n",
    "            # If target value is greater then mid elements's value\n",
    "            elif target > nums[mid]:\n",
    "                start = mid + 1\n",
    "                \n",
    "            # otherwise target value is less, \n",
    "            else:\n",
    "                end = mid -1\n",
    "        # Return the insertion position\n",
    "        return end + 1"
   ]
  },
  {
   "cell_type": "code",
   "execution_count": 16,
   "metadata": {},
   "outputs": [
    {
     "name": "stdout",
     "output_type": "stream",
     "text": [
      "2\n"
     ]
    }
   ],
   "source": [
    "nums = [1,3,5,6]\n",
    "target = 5\n",
    "print(searchInsert(nums,target))"
   ]
  },
  {
   "attachments": {},
   "cell_type": "markdown",
   "metadata": {},
   "source": [
    "# Q-4"
   ]
  },
  {
   "cell_type": "code",
   "execution_count": 17,
   "metadata": {},
   "outputs": [],
   "source": [
    "def plusOne(list):\n",
    "        i=len(list)-1\n",
    "        while(list[i] == 9 and i>=0):\n",
    "            list[i]=0\n",
    "            i-=1\n",
    "        if i<0:\n",
    "            list.insert(0,1)\n",
    "        else:\n",
    "            list[i]=list[i]+1\n",
    "        return list"
   ]
  },
  {
   "cell_type": "code",
   "execution_count": 18,
   "metadata": {},
   "outputs": [
    {
     "name": "stdout",
     "output_type": "stream",
     "text": [
      "[1, 2, 4]\n"
     ]
    }
   ],
   "source": [
    "digits = [1,2,3]\n",
    "print(plusOne(digits))"
   ]
  },
  {
   "attachments": {},
   "cell_type": "markdown",
   "metadata": {},
   "source": [
    "# Q-5"
   ]
  },
  {
   "cell_type": "code",
   "execution_count": 19,
   "metadata": {},
   "outputs": [],
   "source": [
    "def merge(num1, m, num2, n):\n",
    "    a=m+n-1\n",
    "    b=m-1\n",
    "    c=n-1\n",
    "    while(c>=0):\n",
    "        if b>=0 and num1[b]>=num2[c]:\n",
    "            num1[a]=num1[b]\n",
    "            b-=1\n",
    "        else:\n",
    "            num1[a]=num2[c]\n",
    "            c-=1\n",
    "        a-=1\n",
    "    return\n",
    "    "
   ]
  },
  {
   "cell_type": "code",
   "execution_count": 22,
   "metadata": {},
   "outputs": [
    {
     "name": "stdout",
     "output_type": "stream",
     "text": [
      "None\n",
      "[1, 2, 2, 3, 5, 6]\n"
     ]
    }
   ],
   "source": [
    "nums1 = [1,2,3,0,0,0]\n",
    "m = 3\n",
    "nums2 = [2,5,6]\n",
    "n = 3\n",
    "print(merge(nums1,m,nums2,n))\n",
    "print(nums1)"
   ]
  },
  {
   "attachments": {},
   "cell_type": "markdown",
   "metadata": {},
   "source": [
    "# Q-6"
   ]
  },
  {
   "cell_type": "code",
   "execution_count": 24,
   "metadata": {},
   "outputs": [],
   "source": [
    "def containsDuplicate(l):\n",
    "        d={}\n",
    "        for i in l:\n",
    "            d[i]=False\n",
    "        for i in l:\n",
    "            if d[i]==True:\n",
    "                return True\n",
    "            d[i]=True\n",
    "        return False"
   ]
  },
  {
   "cell_type": "code",
   "execution_count": 25,
   "metadata": {},
   "outputs": [
    {
     "name": "stdout",
     "output_type": "stream",
     "text": [
      "True\n"
     ]
    }
   ],
   "source": [
    "nums = [1,2,3,1]\n",
    "print(containsDuplicate(nums))"
   ]
  },
  {
   "attachments": {},
   "cell_type": "markdown",
   "metadata": {},
   "source": [
    "# Q-7"
   ]
  },
  {
   "cell_type": "code",
   "execution_count": 30,
   "metadata": {},
   "outputs": [],
   "source": [
    "def moveZeroes(A):\n",
    "        n = len(A)\n",
    "        j = 0\n",
    "        for i in range(n):\n",
    "            if A[i] != 0:\n",
    "                A[j], A[i] = A[i], A[j]\n",
    "                j += 1\n",
    "        print(A)  "
   ]
  },
  {
   "cell_type": "code",
   "execution_count": 31,
   "metadata": {},
   "outputs": [
    {
     "name": "stdout",
     "output_type": "stream",
     "text": [
      "[1, 3, 12, 0, 0]\n",
      "None\n"
     ]
    }
   ],
   "source": [
    "nums = [0,1,0,3,12]\n",
    "print(moveZeroes(nums))"
   ]
  },
  {
   "attachments": {},
   "cell_type": "markdown",
   "metadata": {},
   "source": [
    "# Q-8"
   ]
  },
  {
   "cell_type": "code",
   "execution_count": 33,
   "metadata": {},
   "outputs": [],
   "source": [
    "def findErrorNums(arr):\n",
    "        l=[]\n",
    "        size=len(arr)\n",
    "        for i in range(size):\n",
    "            if arr[abs(arr[i])-1] > 0:\n",
    "                arr[abs(arr[i])-1] = -arr[abs(arr[i])-1]\n",
    "            else:\n",
    "                l.append(abs(arr[i]))\n",
    "             \n",
    "        for i in range(size):\n",
    "            if arr[i]>0:\n",
    "                l.append(i+1)\n",
    "        return l"
   ]
  },
  {
   "cell_type": "code",
   "execution_count": 34,
   "metadata": {},
   "outputs": [
    {
     "name": "stdout",
     "output_type": "stream",
     "text": [
      "[2, 3]\n"
     ]
    }
   ],
   "source": [
    "nums = [1,2,2,4]\n",
    "print(findErrorNums(nums))"
   ]
  },
  {
   "cell_type": "code",
   "execution_count": null,
   "metadata": {},
   "outputs": [],
   "source": []
  }
 ],
 "metadata": {
  "kernelspec": {
   "display_name": "Python 3",
   "language": "python",
   "name": "python3"
  },
  "language_info": {
   "codemirror_mode": {
    "name": "ipython",
    "version": 3
   },
   "file_extension": ".py",
   "mimetype": "text/x-python",
   "name": "python",
   "nbconvert_exporter": "python",
   "pygments_lexer": "ipython3",
   "version": "3.11.2"
  },
  "orig_nbformat": 4
 },
 "nbformat": 4,
 "nbformat_minor": 2
}
